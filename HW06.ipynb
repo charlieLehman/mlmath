{
  "nbformat": 4,
  "nbformat_minor": 0,
  "metadata": {
    "colab": {
      "name": "HW06.ipynb",
      "version": "0.3.2",
      "provenance": []
    },
    "kernelspec": {
      "name": "python3",
      "display_name": "Python 3"
    }
  },
  "cells": [
    {
      "metadata": {
        "id": "K6z-GGplaF4p",
        "colab_type": "code",
        "colab": {
          "base_uri": "https://localhost:8080/",
          "height": 127
        },
        "outputId": "dcf56ec8-ef51-48e5-a2d0-22dcc58e8cb8"
      },
      "cell_type": "code",
      "source": [
        "from google.colab import drive\n",
        "drive.mount('/content/gdrive')"
      ],
      "execution_count": 182,
      "outputs": [
        {
          "output_type": "stream",
          "text": [
            "Go to this URL in a browser: https://accounts.google.com/o/oauth2/auth?client_id=947318989803-6bn6qk8qdgf4n4g3pfee6491hc0brc4i.apps.googleusercontent.com&redirect_uri=urn%3Aietf%3Awg%3Aoauth%3A2.0%3Aoob&scope=email%20https%3A%2F%2Fwww.googleapis.com%2Fauth%2Fdocs.test%20https%3A%2F%2Fwww.googleapis.com%2Fauth%2Fdrive%20https%3A%2F%2Fwww.googleapis.com%2Fauth%2Fdrive.photos.readonly%20https%3A%2F%2Fwww.googleapis.com%2Fauth%2Fpeopleapi.readonly&response_type=code\n",
            "\n",
            "Enter your authorization code:\n",
            "··········\n",
            "Mounted at /content/gdrive\n"
          ],
          "name": "stdout"
        }
      ]
    },
    {
      "metadata": {
        "id": "Q9hIh4cuakYq",
        "colab_type": "code",
        "colab": {}
      },
      "cell_type": "code",
      "source": [
        "from scipy.io import loadmat\n",
        "from scipy.special import legendre\n",
        "from scipy.integrate import quad\n",
        "import numpy as np\n",
        "from matplotlib import pyplot as plt\n",
        "% matplotlib inline\n",
        "from tqdm import tqdm\n",
        "from IPython.display import display, Math, Latex, HTML\n",
        "from google.colab.output._publish import javascript\n",
        "url = \"https://cdnjs.cloudflare.com/ajax/libs/mathjax/2.7.3/latest.js?config=default\"\n",
        "data_path = \"gdrive/My Drive/Colab Notebooks/mlmath_data/hw06p6_data.mat\"\n",
        "\n",
        "def bmatrix(a):\n",
        "    \"\"\"Returns a LaTeX bmatrix\n",
        "\n",
        "    :a: numpy array\n",
        "    :returns: LaTeX bmatrix as a string\n",
        "    \"\"\"\n",
        "    if len(a.shape) > 2:\n",
        "        raise ValueError('bmatrix can at most display two dimensions')\n",
        "    lines = str(a).replace('[', '').replace(']', '').splitlines()\n",
        "    rv = [r'\\begin{bmatrix}']\n",
        "    rv += ['  ' + ' & '.join(l.split()) + r'\\\\' for l in lines]\n",
        "    rv +=  [r'\\end{bmatrix}']\n",
        "    return '\\n'.join(rv)"
      ],
      "execution_count": 0,
      "outputs": []
    },
    {
      "metadata": {
        "id": "caF4NtEdcHjb",
        "colab_type": "text"
      },
      "cell_type": "markdown",
      "source": [
        "# 1."
      ]
    },
    {
      "metadata": {
        "id": "m1AAFR2lOAJ_",
        "colab_type": "text"
      },
      "cell_type": "markdown",
      "source": [
        "This week was the closing of the Linear Algebra portion of the course, which was focused on the Numeric Methods for solving Least Squares.  The Steepest Descent Algorithm and Conjugate Gradients is motivted by the increasing difficulty to effeciently solve larger and larger sets of data.  By solving a quadratic system $\\boldsymbol{A}^T\\boldsymbol{A}\\boldsymbol{x} = \\boldsymbol{H}\\boldsymbol{x} = \\boldsymbol{A}\\boldsymbol{y} = \\boldsymbol{b} $  the resulting optimization program $\\underset{x \\in \\mathbb{R}^N}{\\text{minimize}} \\frac{1}{2} \\boldsymbol{x}^T\\boldsymbol{H}\\boldsymbol{x} - \\boldsymbol{x}^T\\boldsymbol{b}$ is convex and can be solved by iterative procudure that involves picking a direction and magnitude given a position.  Of the two methods reviewed, Conjugate Gradients is the most interesting.  By intelligently choosing directions by maintaining orthogonality to the previous directions it is able to find a solution in a number of steps the same as the dimensionality of the data.  The relation to Gram-Schmidt was surprising and is worth further study.  A particular aspect of these methods that can affect performance is their sensitivity to the condition number of $\\boldsymbol{H}$.  This class of techniques is widely applied across many fields.  It is the go-to method when inversion is not feasible.\n"
      ]
    },
    {
      "metadata": {
        "id": "yjeLfo5ycK_J",
        "colab_type": "text"
      },
      "cell_type": "markdown",
      "source": [
        "# 2."
      ]
    },
    {
      "metadata": {
        "id": "S4BUH8xfcMJy",
        "colab_type": "code",
        "colab": {
          "base_uri": "https://localhost:8080/",
          "height": 370
        },
        "outputId": "8204ff70-5a6c-461f-9a43-73c283e87b76"
      },
      "cell_type": "code",
      "source": [
        "a1 = np.array([1, 1, -1, -1, -1])\n",
        "a2 = np.array([1, 1, 1, 1, 1,])\n",
        "a3 = np.array([1, -1, 1, -1, 1])\n",
        "\n",
        "A = np.stack([a1, a2, a3], axis=1).astype(float)\n",
        "q = np.zeros_like(A)\n",
        "r = np.zeros((A.shape[1], A.shape[1]))\n",
        "for k, a in enumerate(A.T):\n",
        "    r[:,k] = a.T@q \n",
        "    w = a.T - q@r[:,k]\n",
        "    r[k,k] = np.sqrt(w.T@w)\n",
        "    q[:,k] = np.squeeze(w / r[k,k])\n",
        "        \n",
        "u,s,vt = np.linalg.svd(q, full_matrices=False)\n",
        "javascript(url=url)\n",
        "if np.allclose(A, q@r):\n",
        "    display(Math(r\"A = {}\".format(bmatrix(A))))\n",
        "    display(Math(r\"(a)\\; \\boldsymbol{} = {}\".format(\"{Q}\",bmatrix(q))))\n",
        "    display(Math(r\"(b)\\; \\boldsymbol{} = {}\".format(\"{R}\", bmatrix(r))))\n"
      ],
      "execution_count": 292,
      "outputs": [
        {
          "output_type": "display_data",
          "data": {
            "text/html": [
              "<script src='https://cdnjs.cloudflare.com/ajax/libs/mathjax/2.7.3/latest.js?config=default'></script>"
            ],
            "text/plain": [
              "<IPython.core.display.HTML object>"
            ]
          },
          "metadata": {
            "tags": []
          }
        },
        {
          "output_type": "display_data",
          "data": {
            "text/latex": "$$A = \\begin{bmatrix}\n  1. & 1. & 1.\\\\\n  1. & 1. & -1.\\\\\n  -1. & 1. & 1.\\\\\n  -1. & 1. & -1.\\\\\n  -1. & 1. & 1.\\\\\n\\end{bmatrix}$$",
            "text/plain": [
              "<IPython.core.display.Math object>"
            ]
          },
          "metadata": {
            "tags": []
          }
        },
        {
          "output_type": "display_data",
          "data": {
            "text/latex": "$$(a)\\; \\boldsymbol{Q} = \\begin{bmatrix}\n  0.4472136 & 0.54772256 & 0.46291005\\\\\n  0.4472136 & 0.54772256 & -0.46291005\\\\\n  -0.4472136 & 0.36514837 & 0.3086067\\\\\n  -0.4472136 & 0.36514837 & -0.6172134\\\\\n  -0.4472136 & 0.36514837 & 0.3086067\\\\\n\\end{bmatrix}$$",
            "text/plain": [
              "<IPython.core.display.Math object>"
            ]
          },
          "metadata": {
            "tags": []
          }
        },
        {
          "output_type": "display_data",
          "data": {
            "text/latex": "$$(b)\\; \\boldsymbol{R} = \\begin{bmatrix}\n  2.23606798 & -0.4472136 & -0.4472136\\\\\n  0. & 2.19089023 & 0.36514837\\\\\n  0. & 0. & 2.1602469\\\\\n\\end{bmatrix}$$",
            "text/plain": [
              "<IPython.core.display.Math object>"
            ]
          },
          "metadata": {
            "tags": []
          }
        }
      ]
    },
    {
      "metadata": {
        "id": "4A4gtVvDNhT8",
        "colab_type": "text"
      },
      "cell_type": "markdown",
      "source": [
        "## (c)"
      ]
    },
    {
      "metadata": {
        "id": "he2eOF-TNkA_",
        "colab_type": "text"
      },
      "cell_type": "markdown",
      "source": [
        "\n",
        "\n",
        "---\n",
        "<pre>\n",
        "\n",
        "\n",
        "\n",
        "\n",
        "\n",
        "\n",
        "\n",
        "\n",
        "\n",
        "\n",
        "\n",
        "\n",
        "\n",
        "\n",
        "\n",
        "\n",
        "\n",
        "\n",
        "</pre>\n",
        "\n"
      ]
    },
    {
      "metadata": {
        "id": "83APiA7CNky4",
        "colab_type": "text"
      },
      "cell_type": "markdown",
      "source": [
        "## (d)"
      ]
    },
    {
      "metadata": {
        "id": "jZNacYXvNlvz",
        "colab_type": "text"
      },
      "cell_type": "markdown",
      "source": [
        "\n",
        "\n",
        "---\n",
        "<pre>\n",
        "\n",
        "\n",
        "\n",
        "\n",
        "\n",
        "\n",
        "\n",
        "\n",
        "\n",
        "\n",
        "\n",
        "\n",
        "\n",
        "\n",
        "\n",
        "\n",
        "\n",
        "\n",
        "</pre>\n",
        "\n"
      ]
    },
    {
      "metadata": {
        "id": "DRIg4TB5No84",
        "colab_type": "text"
      },
      "cell_type": "markdown",
      "source": [
        "## (e)"
      ]
    },
    {
      "metadata": {
        "id": "61fivZsINpwM",
        "colab_type": "text"
      },
      "cell_type": "markdown",
      "source": [
        "\n",
        "\n",
        "---\n",
        "<pre>\n",
        "\n",
        "\n",
        "\n",
        "\n",
        "\n",
        "\n",
        "\n",
        "\n",
        "\n",
        "\n",
        "\n",
        "\n",
        "\n",
        "\n",
        "\n",
        "\n",
        "\n",
        "\n",
        "</pre>\n",
        "\n"
      ]
    },
    {
      "metadata": {
        "id": "TA3b5tIC4PKo",
        "colab_type": "text"
      },
      "cell_type": "markdown",
      "source": [
        "# 3."
      ]
    },
    {
      "metadata": {
        "id": "ZaorS00b4Nh7",
        "colab_type": "text"
      },
      "cell_type": "markdown",
      "source": [
        "$$f(x) = \\boldsymbol{x}^T\\boldsymbol{H}\\boldsymbol{x}$$\n",
        "\n",
        "\n",
        "---\n",
        "<pre>\n",
        "\n",
        "\n",
        "\n",
        "\n",
        "\n",
        "\n",
        "\n",
        "\n",
        "\n",
        "\n",
        "\n",
        "\n",
        "\n",
        "\n",
        "\n",
        "\n",
        "\n",
        "\n",
        "</pre>\n",
        "\n",
        "\n",
        "\n",
        "\n",
        "\n",
        "\n",
        "\n"
      ]
    },
    {
      "metadata": {
        "id": "DLM8bIfC8SWS",
        "colab_type": "text"
      },
      "cell_type": "markdown",
      "source": [
        "# 4."
      ]
    },
    {
      "metadata": {
        "id": "u6iL4cgBwvww",
        "colab_type": "text"
      },
      "cell_type": "markdown",
      "source": [
        "## (a)\n"
      ]
    },
    {
      "metadata": {
        "id": "t-0VdmWl8V_1",
        "colab_type": "code",
        "colab": {
          "base_uri": "https://localhost:8080/",
          "height": 88
        },
        "outputId": "355494d8-930b-48e3-ed66-fe36aec05293"
      },
      "cell_type": "code",
      "source": [
        "H = np.array([[2, 1], [1, 2]])\n",
        "b = np.array([[-1], [-3]])\n",
        "\n",
        "f = lambda x: 0.5*x.T@H@x-b.T@x\n",
        "ei, v = np.linalg.eig(H)\n",
        "x_star = np.linalg.inv(H)@b\n",
        "javascript(url=url)\n",
        "display(Math(r\"x_\\star = {}\".format(bmatrix(x_star))))"
      ],
      "execution_count": 134,
      "outputs": [
        {
          "output_type": "display_data",
          "data": {
            "text/html": [
              "<script src='https://cdnjs.cloudflare.com/ajax/libs/mathjax/2.7.3/latest.js?config=default'></script>"
            ],
            "text/plain": [
              "<IPython.core.display.HTML object>"
            ]
          },
          "metadata": {
            "tags": []
          }
        },
        {
          "output_type": "display_data",
          "data": {
            "text/latex": "$$x_\\star = \\begin{bmatrix}\n  0.33333333\\\\\n  -1.66666667\\\\\n\\end{bmatrix}$$",
            "text/plain": [
              "<IPython.core.display.Math object>"
            ]
          },
          "metadata": {
            "tags": []
          }
        }
      ]
    },
    {
      "metadata": {
        "id": "W1YQMWqFxadi",
        "colab_type": "text"
      },
      "cell_type": "markdown",
      "source": [
        "## (b)\n",
        "---\n",
        "<pre>\n",
        "\n",
        "\n",
        "\n",
        "\n",
        "\n",
        "\n",
        "\n",
        "\n",
        "\n",
        "\n",
        "\n",
        "\n",
        "\n",
        "\n",
        "\n",
        "\n",
        "\n",
        "\n",
        "</pre>\n",
        "\n",
        "\\begin{align}\n",
        "f(\\mathbf{x}) = \\_\\_x_1^2 + \\_\\_x_2^2 + \\_\\_x_1x_2 + \\_\\_x_1 + \\_\\_x_2\n",
        "\\end{align}"
      ]
    },
    {
      "metadata": {
        "id": "pp6qmQJi1IcG",
        "colab_type": "text"
      },
      "cell_type": "markdown",
      "source": [
        "## (c)"
      ]
    },
    {
      "metadata": {
        "id": "_33YhzlsxTKP",
        "colab_type": "code",
        "colab": {
          "base_uri": "https://localhost:8080/",
          "height": 320
        },
        "outputId": "d41afd1c-f003-4c5a-9e78-dac5ab9df523"
      },
      "cell_type": "code",
      "source": [
        "l = 3\n",
        "x_ = np.linspace(-l,l,300)\n",
        "ux, uy = np.meshgrid(x_+x_star[0],x_+x_star[1])\n",
        "x = np.stack((ux.reshape(-1), uy.reshape(-1)), 1)\n",
        "y = np.array(list(map(f,x))).reshape(300,300)\n",
        "fig, ax = plt.subplots(1, figsize=(5,5))\n",
        "ax.contour(ux, uy, y)\n",
        "ax.scatter(*x_star)\n",
        "vs = ei*v.T\n",
        "ax.quiver(*x_star, vs[0,:], vs[1,:], scale=1, scale_units='xy', units='xy')\n",
        "ax.set_aspect('equal')\n"
      ],
      "execution_count": 112,
      "outputs": [
        {
          "output_type": "display_data",
          "data": {
            "image/png": "[encoded data removed]",
            "text/plain": [
              "<matplotlib.figure.Figure at 0x7f9278c33048>"
            ]
          },
          "metadata": {
            "tags": []
          }
        }
      ]
    },
    {
      "metadata": {
        "id": "E2YRUSVY1gxj",
        "colab_type": "text"
      },
      "cell_type": "markdown",
      "source": [
        "The eigenvalues and eigenvectors of $\\boldsymbol{H}$ are stretching the 2-D quadratic along the eigenvectors at a scale with the eigenvalues."
      ]
    },
    {
      "metadata": {
        "id": "YSlXOkev2YrG",
        "colab_type": "text"
      },
      "cell_type": "markdown",
      "source": [
        "## (d)"
      ]
    },
    {
      "metadata": {
        "id": "_f_wuw4z2bJC",
        "colab_type": "code",
        "colab": {
          "base_uri": "https://localhost:8080/",
          "height": 374
        },
        "outputId": "a67a5b4a-7760-4be2-e42b-a4f4ad1ca942"
      },
      "cell_type": "code",
      "source": [
        "fig, ax = plt.subplots(1, figsize=(5,5))\n",
        "ax.contour(ux, uy, y)\n",
        "ax.scatter(*x_star)\n",
        "x = np.array([[0.],[0.]])\n",
        "ax.scatter(*x, marker='x', c='red')\n",
        "ax.annotate(str(0), xy=(x[0][0]+0.01, x[1][0]+0.01))\n",
        "r = b-H@x\n",
        "# SGD v1\n",
        "delta = .01\n",
        "for n in range(1,5):\n",
        "    a = r.T@r/(r.T@H@r)\n",
        "    x += a*r\n",
        "    r = b - a*H@x\n",
        "    ax.scatter(*x, marker='x', c='red')\n",
        "    ax.annotate(str(n), xy=(x[0][0]+0.01, x[1][0]+0.01))\n",
        "fig.suptitle('Gradient Descent v1')\n",
        "    \n"
      ],
      "execution_count": 180,
      "outputs": [
        {
          "output_type": "execute_result",
          "data": {
            "text/plain": [
              "Text(0.5,0.98,'Gradient Descent v1')"
            ]
          },
          "metadata": {
            "tags": []
          },
          "execution_count": 180
        },
        {
          "output_type": "display_data",
          "data": {
            "image/png": "[encoded data removed]",
            "text/plain": [
              "<matplotlib.figure.Figure at 0x7f9279159128>"
            ]
          },
          "metadata": {
            "tags": []
          }
        }
      ]
    },
    {
      "metadata": {
        "id": "H4dEdbzR-swV",
        "colab_type": "text"
      },
      "cell_type": "markdown",
      "source": [
        "# 5.\n"
      ]
    },
    {
      "metadata": {
        "id": "u09VzPNF_3nR",
        "colab_type": "text"
      },
      "cell_type": "markdown",
      "source": [
        "---\n",
        "<pre>\n",
        "\n",
        "\n",
        "\n",
        "\n",
        "\n",
        "\n",
        "\n",
        "\n",
        "\n",
        "\n",
        "\n",
        "\n",
        "\n",
        "\n",
        "\n",
        "\n",
        "\n",
        "\n",
        "</pre>"
      ]
    },
    {
      "metadata": {
        "id": "z6hssT2vcFTO",
        "colab_type": "text"
      },
      "cell_type": "markdown",
      "source": [
        "# 6."
      ]
    },
    {
      "metadata": {
        "id": "xqXiKr7YbG3V",
        "colab_type": "code",
        "colab": {
          "base_uri": "https://localhost:8080/",
          "height": 399
        },
        "outputId": "0bc6b2c1-7feb-44c1-be6c-1850fc766db3"
      },
      "cell_type": "code",
      "source": [
        "data = loadmat(data_path)\n",
        "H, b = data['H'], data['b']\n",
        "\n",
        "class sdsolve:\n",
        "    def __init__(self, H, b, tol, maxiter, solver='Conjugate Gradient'):\n",
        "        self.H = H\n",
        "        self.N = b.shape[0]\n",
        "        self.b = b\n",
        "        self.tol = tol\n",
        "        self.maxiter = maxiter\n",
        "        self.x_hist = []\n",
        "        self.solver = solver\n",
        "        \n",
        "    def solve(self, x):\n",
        "        x = x.copy()\n",
        "        if self.solver == 'Conjugate Gradient':\n",
        "            x_h, k = self._conjugate_gradient(x)\n",
        "        elif self.solver == 'Steepest Descent':\n",
        "            x_h, k = self._sgd_v2(x)\n",
        "        \n",
        "        print(\"{} solved in {} steps with tol of {:.2E} and error of {:.2E}\".format(self.solver, k, *self.x_hist[-1][1:]))\n",
        "        return x_h, k\n",
        "        \n",
        "    def _sgd_v2(self, x):\n",
        "        r = self.b - self.H@x\n",
        "        for k in range(self.maxiter):\n",
        "            q = self.H@r\n",
        "            error = np.linalg.norm(r)/np.linalg.norm(b)\n",
        "            a = r.T@r/(r.T@q)\n",
        "            self.x_hist.append((x, error, np.linalg.norm(self.H@x-self.b)))\n",
        "            x += a*r\n",
        "            r -= a*q\n",
        "            if  error < self.tol:\n",
        "                break\n",
        "        return x, k\n",
        "    \n",
        "    def _conjugate_gradient(self, x):\n",
        "        r = self.b - self.H@x\n",
        "        d = r\n",
        "        for k in range(self.maxiter):\n",
        "            error = np.linalg.norm(r)/np.linalg.norm(b)\n",
        "            a = r.T@r/(d.T@self.H@d)\n",
        "            self.x_hist.append((x, error, np.linalg.norm(self.H@x-self.b)))\n",
        "            x += a*d\n",
        "            r_ = r - a*self.H@d\n",
        "            beta = r_.T@r_/(r.T@r)\n",
        "            d = r_ + beta*d\n",
        "            if  error < self.tol:\n",
        "                break\n",
        "            r = r_\n",
        "        return x, k\n",
        "    \n",
        "\n",
        "sd = sdsolve(H, b, 1e-6, 1000, 'Steepest Descent')\n",
        "x_0 = np.random.randn(1000,1)\n",
        "(x_hat, k) = sd.solve(x_0)\n",
        "cg = sdsolve(H, b, 1e-6, 1000, 'Conjugate Gradient')\n",
        "(x_hat, k) = cg.solve(x_0)\n",
        "sder = np.array(sd.x_hist)\n",
        "cger = np.array(cg.x_hist)\n",
        "plt.figure(figsize=(7,5))\n",
        "plt.semilogy(sder[:,2], '--', label=sd.solver)\n",
        "plt.semilogy(cger[:,2], label=cg.solver)\n",
        "plt.legend()\n",
        "plt.ylabel('Error')\n",
        "plt.xlabel('Step')\n",
        "plt.title('Comparison of Error between \\nSteepest Descent and Conjugate Gradient')\n",
        "plt.show()\n"
      ],
      "execution_count": 284,
      "outputs": [
        {
          "output_type": "stream",
          "text": [
            "Steepest Descent solved in 263 steps with tol of 9.47E-07 and error of 2.90E-05\n",
            "Conjugate Gradient solved in 57 steps with tol of 8.87E-07 and error of 2.71E-05\n"
          ],
          "name": "stdout"
        },
        {
          "output_type": "display_data",
          "data": {
            "image/png": "[encoded data removed]",
            "text/plain": [
              "<matplotlib.figure.Figure at 0x7f9277c696a0>"
            ]
          },
          "metadata": {
            "tags": []
          }
        }
      ]
    }
  ]
}